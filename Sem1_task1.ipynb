{
 "cells": [
  {
   "cell_type": "code",
   "execution_count": 1,
   "id": "0aa2249c",
   "metadata": {},
   "outputs": [],
   "source": [
    "from math import factorial\n",
    "\n",
    "def combKfromN(k, n):\n",
    "    return factorial (n) / (factorial(k) * factorial(n - k))"
   ]
  },
  {
   "cell_type": "code",
   "execution_count": 4,
   "id": "b71f3e6c",
   "metadata": {},
   "outputs": [],
   "source": [
    "P4Tref = combKfromN(4, 13) / combKfromN(4, 52)"
   ]
  },
  {
   "cell_type": "code",
   "execution_count": 6,
   "id": "a6514a58",
   "metadata": {},
   "outputs": [
    {
     "name": "stdout",
     "output_type": "stream",
     "text": [
      "Вероятность вытащить все 4 крести из колоды 52 карты 0.0026410564225690276\n"
     ]
    }
   ],
   "source": [
    "print(\"Вероятность вытащить все 4 крести из колоды 52 карты\", P4Tref)"
   ]
  },
  {
   "cell_type": "code",
   "execution_count": 8,
   "id": "5423a3eb",
   "metadata": {},
   "outputs": [],
   "source": [
    "P1Ace = 1 - combKfromN(4, 48) / combKfromN(4, 52)"
   ]
  },
  {
   "cell_type": "code",
   "execution_count": 10,
   "id": "a2be6e21",
   "metadata": {},
   "outputs": [
    {
     "name": "stdout",
     "output_type": "stream",
     "text": [
      "Вероятность вытащить хотя бы одного туза равна  0.2812632745405854\n"
     ]
    }
   ],
   "source": [
    "print(\"Вероятность вытащить хотя бы одного туза равна \", P1Ace)"
   ]
  },
  {
   "cell_type": "code",
   "execution_count": null,
   "id": "d07bc37f",
   "metadata": {},
   "outputs": [],
   "source": []
  }
 ],
 "metadata": {
  "kernelspec": {
   "display_name": "Python 3 (ipykernel)",
   "language": "python",
   "name": "python3"
  },
  "language_info": {
   "codemirror_mode": {
    "name": "ipython",
    "version": 3
   },
   "file_extension": ".py",
   "mimetype": "text/x-python",
   "name": "python",
   "nbconvert_exporter": "python",
   "pygments_lexer": "ipython3",
   "version": "3.9.13"
  }
 },
 "nbformat": 4,
 "nbformat_minor": 5
}
