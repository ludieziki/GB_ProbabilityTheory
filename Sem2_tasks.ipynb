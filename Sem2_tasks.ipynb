{
 "cells": [
  {
   "cell_type": "code",
   "execution_count": 1,
   "id": "4eea8c8e",
   "metadata": {},
   "outputs": [
    {
     "data": {
      "text/plain": [
       "'Вероятность того, что стрелок попадет в мишень, выстрелив один раз, равна 0.8. Стрелок выстрелил 100 раз. Найдите вероятность того, что стрелок попадет в цель ровно 85 раз.'"
      ]
     },
     "execution_count": 1,
     "metadata": {},
     "output_type": "execute_result"
    }
   ],
   "source": [
    "'Вероятность того, что стрелок попадет в мишень, выстрелив один раз, равна 0.8. Стрелок выстрелил 100 раз. Найдите вероятность того, что стрелок попадет в цель ровно 85 раз.'"
   ]
  },
  {
   "cell_type": "code",
   "execution_count": 2,
   "id": "5a3f1ac7",
   "metadata": {},
   "outputs": [],
   "source": [
    "from math import factorial\n",
    "\n",
    "def combKfromN(k, n):\n",
    "    return factorial (n) / (factorial(k) * factorial(n - k))"
   ]
  },
  {
   "cell_type": "code",
   "execution_count": 3,
   "id": "ec138107",
   "metadata": {},
   "outputs": [],
   "source": [
    "def BernullyFormula(k, n, p):\n",
    "    return combKfromN(k, n) * p**k * (1-p)**(n-k)"
   ]
  },
  {
   "cell_type": "code",
   "execution_count": 4,
   "id": "d3f7e12f",
   "metadata": {},
   "outputs": [
    {
     "name": "stdout",
     "output_type": "stream",
     "text": [
      "Вероятность попасть в мишень ровно 85 раз из 100 при 0,8 вероятности попадания равна  0.048061793700746355\n"
     ]
    }
   ],
   "source": [
    "print(\"Вероятность попасть в мишень ровно 85 раз из 100 при 0,8 вероятности попадания равна \", BernullyFormula(85, 100, 0.8))"
   ]
  },
  {
   "cell_type": "code",
   "execution_count": 5,
   "id": "286de1af",
   "metadata": {},
   "outputs": [
    {
     "data": {
      "text/plain": [
       "'Вероятность того, что лампочка перегорит в течение первого дня эксплуатации, равна 0.0004. В жилом комплексе после ремонта в один день включили 5000 новых лампочек. Какова вероятность, что ни одна из них не перегорит в первый день? Какова вероятность, что перегорят ровно две?'"
      ]
     },
     "execution_count": 5,
     "metadata": {},
     "output_type": "execute_result"
    }
   ],
   "source": [
    "'Вероятность того, что лампочка перегорит в течение первого дня эксплуатации, равна 0.0004. В жилом комплексе после ремонта в один день включили 5000 новых лампочек. Какова вероятность, что ни одна из них не перегорит в первый день? Какова вероятность, что перегорят ровно две?'"
   ]
  },
  {
   "cell_type": "code",
   "execution_count": 9,
   "id": "9ae55f87",
   "metadata": {},
   "outputs": [
    {
     "name": "stdout",
     "output_type": "stream",
     "text": [
      "Вероятность что ни одна не перегорит в первый день равна 0.13528114551440706\n"
     ]
    }
   ],
   "source": [
    "print(\"Вероятность что ни одна не перегорит в первый день равна\", (1 - 0.0004)**5000)"
   ]
  },
  {
   "cell_type": "code",
   "execution_count": null,
   "id": "795a6c20",
   "metadata": {},
   "outputs": [],
   "source": []
  },
  {
   "cell_type": "code",
   "execution_count": 8,
   "id": "69df5577",
   "metadata": {},
   "outputs": [
    {
     "name": "stdout",
     "output_type": "stream",
     "text": [
      "Вероятность что перегорит ровно 2 равна 1.6e-07\n"
     ]
    }
   ],
   "source": [
    "print(\"Вероятность что перегорит ровно 2 равна\", 0.0004**2)"
   ]
  },
  {
   "cell_type": "code",
   "execution_count": 10,
   "id": "9c85ec95",
   "metadata": {},
   "outputs": [
    {
     "data": {
      "text/plain": [
       "'Монету подбросили 144 раза. Какова вероятность, что орел выпадет ровно 70 раз?'"
      ]
     },
     "execution_count": 10,
     "metadata": {},
     "output_type": "execute_result"
    }
   ],
   "source": [
    "\"Монету подбросили 144 раза. Какова вероятность, что орел выпадет ровно 70 раз?\""
   ]
  },
  {
   "cell_type": "code",
   "execution_count": 11,
   "id": "3047e15b",
   "metadata": {},
   "outputs": [
    {
     "name": "stdout",
     "output_type": "stream",
     "text": [
      "Вероятность выбросить 70 орлов подбросив монету 144 раза равна  0.06281178035144776\n"
     ]
    }
   ],
   "source": [
    "print(\"Вероятность выбросить 70 орлов подбросив монету 144 раза равна \", BernullyFormula(70, 144, 0.5))"
   ]
  },
  {
   "cell_type": "code",
   "execution_count": 14,
   "id": "8e08eaa8",
   "metadata": {},
   "outputs": [
    {
     "data": {
      "text/plain": [
       "'В первом ящике находится 10 мячей, из которых 7 - белые. Во втором ящике - 11 мячей, из которых 9 белых. Из каждого ящика вытаскивают случайным образом по два мяча. Какова вероятность того, что все мячи белые? Какова вероятность того, что ровно два мяча белые? Какова вероятность того, что хотя бы один мяч белый?'"
      ]
     },
     "execution_count": 14,
     "metadata": {},
     "output_type": "execute_result"
    }
   ],
   "source": [
    "'В первом ящике находится 10 мячей, из которых 7 - белые. Во втором ящике - 11 мячей, из которых 9 белых. Из каждого ящика вытаскивают случайным образом по два мяча. Какова вероятность того, что все мячи белые? Какова вероятность того, что ровно два мяча белые? Какова вероятность того, что хотя бы один мяч белый?'"
   ]
  },
  {
   "cell_type": "code",
   "execution_count": 15,
   "id": "c0d9c370",
   "metadata": {},
   "outputs": [
    {
     "name": "stdout",
     "output_type": "stream",
     "text": [
      "Вероятность вытащить все белые мячи равна 0.32801652892561983\n"
     ]
    }
   ],
   "source": [
    "print(\"Вероятность вытащить все белые мячи равна\", BernullyFormula(2, 2, 0.7) * BernullyFormula(2, 2, 9/11))"
   ]
  },
  {
   "cell_type": "code",
   "execution_count": 16,
   "id": "3d433d91",
   "metadata": {},
   "outputs": [
    {
     "name": "stdout",
     "output_type": "stream",
     "text": [
      "Вероятность вытащить ровно два белых мяча равна 0.20140495867768599\n"
     ]
    }
   ],
   "source": [
    "print(\"Вероятность вытащить ровно два белых мяча равна\", BernullyFormula(1, 2, 0.7) * BernullyFormula(1, 2, 9/11) + BernullyFormula(2, 2, 0.7) * BernullyFormula(0, 2, 9/11) + BernullyFormula(0, 2, 0.7) * BernullyFormula(2, 2, 9/11))"
   ]
  },
  {
   "cell_type": "code",
   "execution_count": 25,
   "id": "6c690c25",
   "metadata": {},
   "outputs": [
    {
     "name": "stdout",
     "output_type": "stream",
     "text": [
      "Вероятность что хотя бы один мяч белый равна  0.9970247933884298\n"
     ]
    }
   ],
   "source": [
    "print(\"Вероятность что хотя бы один мяч белый равна \", 1 - BernullyFormula(0, 2, 0.7) * BernullyFormula(0, 2, 9/11))"
   ]
  }
 ],
 "metadata": {
  "kernelspec": {
   "display_name": "Python 3 (ipykernel)",
   "language": "python",
   "name": "python3"
  },
  "language_info": {
   "codemirror_mode": {
    "name": "ipython",
    "version": 3
   },
   "file_extension": ".py",
   "mimetype": "text/x-python",
   "name": "python",
   "nbconvert_exporter": "python",
   "pygments_lexer": "ipython3",
   "version": "3.9.13"
  }
 },
 "nbformat": 4,
 "nbformat_minor": 5
}
