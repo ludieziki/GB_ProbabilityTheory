{
 "cells": [
  {
   "cell_type": "code",
   "execution_count": 2,
   "id": "27252aa5",
   "metadata": {},
   "outputs": [],
   "source": [
    "import pandas as pd\n",
    "import numpy as np\n",
    "import statsmodels.api as sm\n",
    "import scipy.stats as stats\n",
    "from scipy.stats import f"
   ]
  },
  {
   "cell_type": "code",
   "execution_count": 3,
   "id": "3fde9c2d",
   "metadata": {},
   "outputs": [],
   "source": [
    "# Провести дисперсионный анализ для определения того, есть ли различия среднего роста среди взрослых футболистов, \n",
    "#хоккеистов и штангистов. Даны значения роста в трех группах случайно выбранных спортсменов: \n",
    "#Футболисты: 173, 175, 180, 178, 177, 185, 183, 182. \n",
    "#Хоккеисты: 177, 179, 180, 188, 177, 172, 171, 184, 180.\n",
    "#Штангисты: 172, 173, 169, 177, 166, 180, 178, 177, 172, 166, 170."
   ]
  },
  {
   "cell_type": "code",
   "execution_count": 20,
   "id": "7536aa0e",
   "metadata": {},
   "outputs": [],
   "source": [
    "FB = np.array([173, 175, 180, 178, 177, 185, 183, 182], dtype=np.float64) # Футболисты\n",
    "HK = np.array([177, 179, 180, 188, 177, 172, 171, 184, 180], dtype=np.float64) # Хоккеистыdtype=np.float64)\n",
    "WL = np.array([172, 173, 169, 177, 166, 180, 178, 177, 172, 166, 170], dtype=np.float64) # Штангисты"
   ]
  },
  {
   "cell_type": "code",
   "execution_count": 39,
   "id": "2e8eb859",
   "metadata": {},
   "outputs": [],
   "source": [
    "FB_mean = FB.mean()\n",
    "HK_mean = HK.mean()\n",
    "WL_mean = WL.mean()"
   ]
  },
  {
   "cell_type": "code",
   "execution_count": 40,
   "id": "7b5ec778",
   "metadata": {},
   "outputs": [],
   "source": [
    "FB_var = FB.var()\n",
    "HK_var = HK.var()\n",
    "WL_var = WL.var()"
   ]
  },
  {
   "cell_type": "code",
   "execution_count": 41,
   "id": "dfde513f",
   "metadata": {},
   "outputs": [],
   "source": [
    "FB_std = FB.std()\n",
    "HK_std = HK.std()\n",
    "WL_std = WL.std()"
   ]
  },
  {
   "cell_type": "code",
   "execution_count": 42,
   "id": "91e77d45",
   "metadata": {},
   "outputs": [],
   "source": [
    "FB_n = np.count_nonzero(FB)\n",
    "HK_n = np.count_nonzero(HK)\n",
    "WL_n = np.count_nonzero(WL)"
   ]
  },
  {
   "cell_type": "code",
   "execution_count": 43,
   "id": "e3800bf5",
   "metadata": {},
   "outputs": [
    {
     "data": {
      "text/plain": [
       "176.83964646464645"
      ]
     },
     "execution_count": 43,
     "metadata": {},
     "output_type": "execute_result"
    }
   ],
   "source": [
    "OSM = (FB_mean + HK_mean + WL_mean) / 3\n",
    "OSM"
   ]
  },
  {
   "cell_type": "code",
   "execution_count": 44,
   "id": "c7ddef50",
   "metadata": {},
   "outputs": [],
   "source": [
    "SSTR = FB_n * (FB_mean - OSM)**2 + HK_n * (HK_mean - OSM)**2 + WL_n * (WL_mean - OSM)**2"
   ]
  },
  {
   "cell_type": "code",
   "execution_count": 45,
   "id": "eab937f5",
   "metadata": {},
   "outputs": [
    {
     "data": {
      "text/plain": [
       "257.8525469339864"
      ]
     },
     "execution_count": 45,
     "metadata": {},
     "output_type": "execute_result"
    }
   ],
   "source": [
    "SSTR"
   ]
  },
  {
   "cell_type": "code",
   "execution_count": 46,
   "id": "4f68a637",
   "metadata": {},
   "outputs": [
    {
     "data": {
      "text/plain": [
       "128.9262734669932"
      ]
     },
     "execution_count": 46,
     "metadata": {},
     "output_type": "execute_result"
    }
   ],
   "source": [
    "MSTR = SSTR / 2\n",
    "MSTR"
   ]
  },
  {
   "cell_type": "code",
   "execution_count": 48,
   "id": "83e07220",
   "metadata": {},
   "outputs": [
    {
     "data": {
      "text/plain": [
       "515.9384900137741"
      ]
     },
     "execution_count": 48,
     "metadata": {},
     "output_type": "execute_result"
    }
   ],
   "source": [
    "SSE = (FB_n - 1) * FB_var + (HK_n - 1) * HK_var + (WL_n - 1) * WL_var\n",
    "SSE"
   ]
  },
  {
   "cell_type": "code",
   "execution_count": 49,
   "id": "67a30732",
   "metadata": {},
   "outputs": [
    {
     "data": {
      "text/plain": [
       "20.637539600550962"
      ]
     },
     "execution_count": 49,
     "metadata": {},
     "output_type": "execute_result"
    }
   ],
   "source": [
    "MSE = SSE / (FB_n + HK_n + WL_n - 3)\n",
    "MSE"
   ]
  },
  {
   "cell_type": "code",
   "execution_count": 50,
   "id": "22172e52",
   "metadata": {},
   "outputs": [
    {
     "data": {
      "text/plain": [
       "6.247172674767453"
      ]
     },
     "execution_count": 50,
     "metadata": {},
     "output_type": "execute_result"
    }
   ],
   "source": [
    "F = MSTR / MSE\n",
    "F"
   ]
  },
  {
   "cell_type": "code",
   "execution_count": 51,
   "id": "cc762a2c",
   "metadata": {},
   "outputs": [
    {
     "data": {
      "text/plain": [
       "5.452936921223926"
      ]
     },
     "execution_count": 51,
     "metadata": {},
     "output_type": "execute_result"
    }
   ],
   "source": [
    "f.ppf(1-0.01, dfn = 2, dfd = FB_n + HK_n + WL_n)"
   ]
  },
  {
   "cell_type": "code",
   "execution_count": null,
   "id": "1dce0cd8",
   "metadata": {},
   "outputs": [],
   "source": [
    "# Поскольку F = 6.25 больше, чем 5.45, то область в правом хвосте при F = 6.25 менее 0.01. Следовательно,\n",
    "# значение p менее 0.01. Поскольку значение p менее уровня значимости, гипотеза H0 должна быть отвергнута.\n",
    "# Выборка представляет достаточное доказательство, что что средние этих групп различаются.\n",
    "# Другими словами, значения среднего роста для групп представителей разного спорта различаются"
   ]
  },
  {
   "cell_type": "code",
   "execution_count": null,
   "id": "be638661",
   "metadata": {},
   "outputs": [],
   "source": []
  }
 ],
 "metadata": {
  "kernelspec": {
   "display_name": "Python 3 (ipykernel)",
   "language": "python",
   "name": "python3"
  },
  "language_info": {
   "codemirror_mode": {
    "name": "ipython",
    "version": 3
   },
   "file_extension": ".py",
   "mimetype": "text/x-python",
   "name": "python",
   "nbconvert_exporter": "python",
   "pygments_lexer": "ipython3",
   "version": "3.9.13"
  }
 },
 "nbformat": 4,
 "nbformat_minor": 5
}
